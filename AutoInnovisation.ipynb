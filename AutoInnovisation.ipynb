{
 "cells": [
  {
   "cell_type": "code",
   "execution_count": 1,
   "metadata": {},
   "outputs": [],
   "source": [
    "import numpy as np\n",
    "import pandas as pd\n",
    "import math \n",
    "from pymoo.factory import get_problem\n",
    "import GA\n",
    "import statistics\n",
    "\n",
    "\n",
    "pf = get_problem(\"truss2d\").pareto_front()\n",
    "phi1= pf[:,0].reshape(-1,1)\n",
    "phi2= pf[:,1].reshape(-1,1)\n",
    "x1=phi1/8.944\n",
    "x2=2*x1\n",
    "m =pf.shape[0]"
   ]
  },
  {
   "cell_type": "code",
   "execution_count": 2,
   "metadata": {},
   "outputs": [],
   "source": [
    "def cnf(pop):\n",
    "    pop=pd.DataFrame(pop)\n",
    "    pop=pop.drop([1,3,5,7,8],axis=1)\n",
    "    cnf=pop.to_numpy()\n",
    "    return cnf"
   ]
  },
  {
   "cell_type": "code",
   "execution_count": 3,
   "metadata": {},
   "outputs": [],
   "source": [
    "def niched_tournament_selection(pop,fitness):\n",
    "    \n",
    "    fitness=fitness.reshape((fitness.shape[0],1))\n",
    "    pop_=np.array(np.concatenate((pop,fitness),axis=1))\n",
    "    pop1_=np.array(pop_.copy())\n",
    "    np.random.shuffle(pop1_)\n",
    "    pop1=pop1_[:,:-1]\n",
    "    parents=np.empty((pop.shape))\n",
    "    pop2_=np.empty((pop1_.shape))\n",
    "    a=cnf(pop)\n",
    "    b=cnf(pop1)\n",
    "    for i in range(pop_size):\n",
    "        for j in range(pop_size):\n",
    "            if (a[j]==b[i]).all():\n",
    "                pop2_[i]=pop_[j]\n",
    "        if pop1_[i,-1]>=pop2_[i,-1]:\n",
    "            parents[i]=pop1_[i][:-1]\n",
    "        else:\n",
    "            parents[i]=pop2_[i][:-1]\n",
    "            \n",
    "    return parents"
   ]
  },
  {
   "cell_type": "code",
   "execution_count": 4,
   "metadata": {},
   "outputs": [],
   "source": [
    "def fitness(pop):\n",
    "    fitness_pop = np.empty([pop_size,1])\n",
    "    fitness_pop[:]=np.nan\n",
    "    \n",
    "    d=pop[:,-1]\n",
    "    d= d.astype(int)\n",
    "\n",
    "    c= np.array((phi1**(pop[:,0]*pop[:,1]))*(phi2**(pop[:,2]*pop[:,3]))*(x1**(pop[:,4]*pop[:,5]))*(x2**(pop[:,6]*pop[:,7])))\n",
    "    c.sort(axis=0)\n",
    "    X=(c[-1,:]-c[0,:])/d\n",
    "    \n",
    "    for j in range(pop_size):\n",
    "        C=0\n",
    "        U=0\n",
    "        cv=0\n",
    "        flag=1\n",
    "        minim=0\n",
    "        temp=[]\n",
    "        for i in range(d[j]):\n",
    "            \n",
    "            minim=c[:,j].min()\n",
    "   \n",
    "            points = c[:,j][(c[:,j]>=(minim+i*X[j]))*(c[:,j]<(minim+(i+1)*X[j]+0.00000000001))]\n",
    "            count = points.size\n",
    "            if count <= int(m/d[j]) : \n",
    "                U=U+count\n",
    "                flag=1\n",
    "                if len(temp)!=0:\n",
    "                    cv+=statistics.stdev(temp)/statistics.mean(temp)\n",
    "                    temp=[]\n",
    "            else:\n",
    "                temp.extend(points)\n",
    "                if flag == 1:\n",
    "                    C=C+1\n",
    "                    flag=0\n",
    "        \n",
    "        b = [1,2,3,4]\n",
    "        constr_violation = 0\n",
    "        for i in range (len(b)):\n",
    "            if 0.1 - abs(b[i])>0:\n",
    "                constr_violation += 0.1 - abs(b[i])\n",
    "        fitness_pop[j]=-(C+U+(100*cv))+1000*constr_violation   \n",
    "    \n",
    "    return fitness_pop"
   ]
  },
  {
   "cell_type": "code",
   "execution_count": 5,
   "metadata": {},
   "outputs": [],
   "source": [
    "import random\n",
    "pop_size=400\n",
    "n_gen=1000\n",
    "\n",
    "pop= np.empty([pop_size,9])\n",
    "for i in range(pop_size):\n",
    "    for j in range(8):\n",
    "        if j%2==0:\n",
    "            pop[i][j]=random.randint(0,1)\n",
    "        else:\n",
    "            if random.random()>=0.5:\n",
    "                pop[i][j]=random.uniform(-1,-0.1)\n",
    "            else :\n",
    "                pop[i][j]=random.uniform(0.1,1)\n",
    "                \n",
    "    if (pop[i][0:7:2]==np.array([0,0,0,0])).all()==True:\n",
    "        pop[i][0:7:2][random.randint(0,3)]=1\n",
    "\n",
    "    pop[i][8]=random.randint(1,m)\n",
    "    \n",
    "    bmax=np.max(abs(pop[i][1:8:2]*pop[i][0:7:2]))\n",
    "    pop[i][1:8:2]=pop[i][1:8:2]/bmax\n",
    "    if np.min(pop[i][1:8:2]*pop[i][0:7:2])==-1:\n",
    "        pop[i][1:8:2]=-pop[i][1:8:2]\n",
    "\n",
    "        \n",
    "    size=pop[:,1:8:2][abs(pop[:,1:8:2])>1].size\n",
    "    if size!=0:\n",
    "        t=np.append(np.random.uniform(-1,-0.1,int(size/2)),np.random.uniform(0.1,1,size-int(size/2)))\n",
    "        np.random.shuffle(t)\n",
    "        pop[:,1:8:2][abs(pop[:,1:8:2])>1]=t\n",
    "        \n",
    "f=fitness(pop)"
   ]
  },
  {
   "cell_type": "code",
   "execution_count": 6,
   "metadata": {
    "scrolled": true
   },
   "outputs": [
    {
     "name": "stdout",
     "output_type": "stream",
     "text": [
      "gen: 1 = [[ 1.00000000e+00  2.80930932e-01  0.00000000e+00 ...  1.00000000e+00\n",
      "   1.00000000e+00  6.95000000e+02]\n",
      " [ 1.00000000e+00 -5.36562728e-01  1.00000000e+00 ...  1.00000000e+00\n",
      "  -6.32067886e-01  4.11000000e+02]\n",
      " [ 1.00000000e+00  1.00000000e+00  1.00000000e+00 ...  0.00000000e+00\n",
      "  -4.19528633e-01  8.17000000e+02]\n",
      " ...\n",
      " [ 1.00000000e+00  9.60373041e-01  0.00000000e+00 ...  0.00000000e+00\n",
      "   2.17045558e-01  9.29000000e+02]\n",
      " [ 1.00000000e+00  1.00000000e+00  1.00000000e+00 ...  0.00000000e+00\n",
      "   4.74880701e-01  6.17000000e+02]\n",
      " [ 0.00000000e+00 -3.55991093e-01  0.00000000e+00 ...  0.00000000e+00\n",
      "  -4.28932246e-01  4.20000000e+01]]\n",
      "gen: 2 = [[ 0.00000000e+00 -8.08691308e-01  1.00000000e+00 ...  0.00000000e+00\n",
      "   6.86960195e-01  3.97000000e+02]\n",
      " [ 1.00000000e+00 -3.13340767e-01  1.00000000e+00 ...  0.00000000e+00\n",
      "   5.41737053e-01  6.13000000e+02]\n",
      " [ 0.00000000e+00  8.35268834e-01  1.00000000e+00 ...  0.00000000e+00\n",
      "  -8.28919797e-01  6.10000000e+02]\n",
      " ...\n",
      " [ 0.00000000e+00  7.75509048e-01  1.00000000e+00 ...  0.00000000e+00\n",
      "   9.03554328e-01  1.56000000e+02]\n",
      " [ 0.00000000e+00  8.18919770e-01  1.00000000e+00 ...  0.00000000e+00\n",
      "  -7.54202086e-01  3.55000000e+02]\n",
      " [ 0.00000000e+00  2.56446626e-01  1.00000000e+00 ...  1.00000000e+00\n",
      "  -8.93481301e-01  3.39000000e+02]]\n",
      "And so on\n",
      "gen: 999 = [[ 0.00000000e+00 -5.55709132e-01  1.00000000e+00 ...  0.00000000e+00\n",
      "   8.83685796e-01  5.52000000e+02]\n",
      " [ 0.00000000e+00  4.10836714e-01  0.00000000e+00 ...  0.00000000e+00\n",
      "  -2.38147739e-01  5.52000000e+02]\n",
      " [ 1.00000000e+00  1.00000000e+00  0.00000000e+00 ...  0.00000000e+00\n",
      "   5.58101748e-01  5.52000000e+02]\n",
      " ...\n",
      " [ 1.00000000e+00  3.38046705e-01  1.00000000e+00 ...  1.00000000e+00\n",
      "  -2.96926192e-01  5.68000000e+02]\n",
      " [ 1.00000000e+00  1.00000000e+00  1.00000000e+00 ...  1.00000000e+00\n",
      "   6.06677722e-01  5.52000000e+02]\n",
      " [ 1.00000000e+00  1.00000000e+00  0.00000000e+00 ...  0.00000000e+00\n",
      "  -1.08284726e-01  5.52000000e+02]]\n",
      "gen: 1000 = [[ 1.00000000e+00  1.00000000e+00  0.00000000e+00 ...  0.00000000e+00\n",
      "   6.00496923e-01  5.52000000e+02]\n",
      " [ 1.00000000e+00 -1.35526459e-01  1.00000000e+00 ...  1.00000000e+00\n",
      "   1.00000000e+00  5.52000000e+02]\n",
      " [ 0.00000000e+00 -5.64922618e-01  1.00000000e+00 ...  0.00000000e+00\n",
      "  -7.33744970e-01  5.52000000e+02]\n",
      " ...\n",
      " [ 1.00000000e+00  6.38187400e-01  1.00000000e+00 ...  1.00000000e+00\n",
      "   1.00000000e+00  5.52000000e+02]\n",
      " [ 0.00000000e+00  7.43830781e-01  1.00000000e+00 ...  1.00000000e+00\n",
      "   8.06453462e-01  5.52000000e+02]\n",
      " [ 0.00000000e+00  6.64459333e-01  1.00000000e+00 ...  1.00000000e+00\n",
      "   7.56042346e-01  5.52000000e+02]]\n"
     ]
    }
   ],
   "source": [
    "for i in range(n_gen):\n",
    "    \n",
    "    parents=niched_tournament_selection(pop,f)  \n",
    "    a=parents[:,0:7:2]\n",
    "    b=parents[:,1:8:2]\n",
    "    d=parents[:,-1]\n",
    "    child=np.full((parents.shape),np.nan)\n",
    "    #CROSSOVERS\n",
    "    a=GA.sbx_int(a,1,10,0,1)\n",
    "    b=GA.sbx_real(b,0.9,10)\n",
    "    d=GA.sbx_int(d,1,10,1,1100)[:,0]\n",
    "    \n",
    "    #MUTATIONS\n",
    "    child[:,0:7:2]=GA.mut_flip(a,0.15)\n",
    "    child[:,1:8:2]=GA.mut_poly(b,50,-1,1,0.05)\n",
    "    child[:,8]=GA.mut_int(d,50,1,1100,0.05)[:,0]\n",
    "    \n",
    "    for l in range(pop_size):\n",
    "        \n",
    "        if (child[l][0:7:2]==np.array([0,0,0,0])).all()==True:\n",
    "            child[l][0:7:2][random.randint(0,3)]=1\n",
    "        \n",
    "        bmax=np.max(abs(child[l][1:8:2]*child[l][0:7:2]))\n",
    "        child[l][1:8:2]=child[l][1:8:2]/bmax\n",
    "        if np.min(child[l][1:8:2]*child[l][0:7:2])==-1:\n",
    "            child[l][1:8:2]=-child[l][1:8:2]\n",
    "        \n",
    "    \n",
    "            \n",
    "    size=child[:,1:8:2][(abs(child[:,1:8:2])>1)+(abs(child[:,1:8:2])<0.1)].size\n",
    "    if size!=0:\n",
    "        t=np.append(np.random.uniform(-1,-0.1,int(size/2)),np.random.uniform(0.1,1,size-int(size/2)))\n",
    "        np.random.shuffle(t)\n",
    "        child[:,1:8:2][(abs(child[:,1:8:2])>1)+(abs(child[:,1:8:2])<0.1)]=t\n",
    "        \n",
    "    pop=child\n",
    "    \n",
    "    f=fitness(child)\n",
    "    \n",
    "    print(\"gen:\",i+1,\"=\",child)"
   ]
  },
  {
   "cell_type": "code",
   "execution_count": 7,
   "metadata": {},
   "outputs": [],
   "source": [
    "#REDEFINING CLUSTERING CRITERION\n",
    "\n",
    "pop=child\n",
    "d=pop[:,-1]\n",
    "d= d.astype(int)\n",
    "unclustered_points=np.full((pop_size,1),np.nan)\n",
    "clusters=np.full((pop_size,1),np.nan)\n",
    "c =(phi1**(pop[:,0]*pop[:,1]))*(phi2**(pop[:,2]*pop[:,3]))*(x1**(pop[:,4]*pop[:,5]))*(x2**(pop[:,6]*pop[:,7]))                          \n",
    "c.sort(axis=0)\n",
    "X=(c[-1,:]-c[0,:])/d\n",
    "for j in range(pop_size):\n",
    "    C=0\n",
    "    U=0\n",
    "    cv=0\n",
    "    flag=1\n",
    "    minim=0\n",
    "    temp=[]\n",
    "    for i in range(d[j]):\n",
    "\n",
    "        minim=c[:,j].min()\n",
    "\n",
    "        points = c[:,j][(c[:,j]>=(minim+i*X[j]))*(c[:,j]<(minim+(i+1)*X[j]+0.00000000001))]\n",
    "        count = points.size\n",
    "        if count <= int(m/d[j])+3 : \n",
    "            U=U+count\n",
    "            flag=1\n",
    "            if len(temp)!=0:\n",
    "                cv+=statistics.stdev(temp)/statistics.mean(temp)\n",
    "                temp=[]\n",
    "        else:\n",
    "            temp.extend(points)\n",
    "            if flag == 1:\n",
    "                C=C+1\n",
    "                flag=0\n",
    "    \n",
    "\n",
    "    unclustered_points[j]=U\n",
    "    clusters[j]=C"
   ]
  },
  {
   "cell_type": "code",
   "execution_count": 33,
   "metadata": {},
   "outputs": [
    {
     "data": {
      "text/html": [
       "<div>\n",
       "<style scoped>\n",
       "    .dataframe tbody tr th:only-of-type {\n",
       "        vertical-align: middle;\n",
       "    }\n",
       "\n",
       "    .dataframe tbody tr th {\n",
       "        vertical-align: top;\n",
       "    }\n",
       "\n",
       "    .dataframe thead th {\n",
       "        text-align: right;\n",
       "    }\n",
       "</style>\n",
       "<table border=\"1\" class=\"dataframe\">\n",
       "  <thead>\n",
       "    <tr style=\"text-align: right;\">\n",
       "      <th></th>\n",
       "      <th>0</th>\n",
       "    </tr>\n",
       "  </thead>\n",
       "  <tbody>\n",
       "    <tr>\n",
       "      <th>9</th>\n",
       "      <td>84.454545</td>\n",
       "    </tr>\n",
       "    <tr>\n",
       "      <th>18</th>\n",
       "      <td>73.000000</td>\n",
       "    </tr>\n",
       "    <tr>\n",
       "      <th>29</th>\n",
       "      <td>76.181818</td>\n",
       "    </tr>\n",
       "    <tr>\n",
       "      <th>74</th>\n",
       "      <td>92.545455</td>\n",
       "    </tr>\n",
       "    <tr>\n",
       "      <th>85</th>\n",
       "      <td>77.090909</td>\n",
       "    </tr>\n",
       "    <tr>\n",
       "      <th>91</th>\n",
       "      <td>79.181818</td>\n",
       "    </tr>\n",
       "    <tr>\n",
       "      <th>122</th>\n",
       "      <td>76.272727</td>\n",
       "    </tr>\n",
       "    <tr>\n",
       "      <th>128</th>\n",
       "      <td>100.000000</td>\n",
       "    </tr>\n",
       "    <tr>\n",
       "      <th>136</th>\n",
       "      <td>92.363636</td>\n",
       "    </tr>\n",
       "    <tr>\n",
       "      <th>138</th>\n",
       "      <td>71.636364</td>\n",
       "    </tr>\n",
       "    <tr>\n",
       "      <th>145</th>\n",
       "      <td>76.363636</td>\n",
       "    </tr>\n",
       "    <tr>\n",
       "      <th>147</th>\n",
       "      <td>78.636364</td>\n",
       "    </tr>\n",
       "    <tr>\n",
       "      <th>173</th>\n",
       "      <td>79.090909</td>\n",
       "    </tr>\n",
       "    <tr>\n",
       "      <th>246</th>\n",
       "      <td>75.454545</td>\n",
       "    </tr>\n",
       "    <tr>\n",
       "      <th>272</th>\n",
       "      <td>71.090909</td>\n",
       "    </tr>\n",
       "    <tr>\n",
       "      <th>303</th>\n",
       "      <td>92.363636</td>\n",
       "    </tr>\n",
       "    <tr>\n",
       "      <th>368</th>\n",
       "      <td>70.818182</td>\n",
       "    </tr>\n",
       "    <tr>\n",
       "      <th>370</th>\n",
       "      <td>74.090909</td>\n",
       "    </tr>\n",
       "    <tr>\n",
       "      <th>372</th>\n",
       "      <td>74.090909</td>\n",
       "    </tr>\n",
       "  </tbody>\n",
       "</table>\n",
       "</div>"
      ],
      "text/plain": [
       "              0\n",
       "9     84.454545\n",
       "18    73.000000\n",
       "29    76.181818\n",
       "74    92.545455\n",
       "85    77.090909\n",
       "91    79.181818\n",
       "122   76.272727\n",
       "128  100.000000\n",
       "136   92.363636\n",
       "138   71.636364\n",
       "145   76.363636\n",
       "147   78.636364\n",
       "173   79.090909\n",
       "246   75.454545\n",
       "272   71.090909\n",
       "303   92.363636\n",
       "368   70.818182\n",
       "370   74.090909\n",
       "372   74.090909"
      ]
     },
     "execution_count": 33,
     "metadata": {},
     "output_type": "execute_result"
    }
   ],
   "source": [
    "a=pd.DataFrame((1100-unclustered_points)/11)\n",
    "b=a[a>=70]\n",
    "b.dropna(inplace=True)\n",
    "b"
   ]
  },
  {
   "cell_type": "markdown",
   "metadata": {},
   "source": [
    "POINTS WITH STATISTICAL SIGNIFIACANCE>80% PRINTED BELOW"
   ]
  },
  {
   "cell_type": "code",
   "execution_count": 17,
   "metadata": {},
   "outputs": [
    {
     "data": {
      "text/plain": [
       "array([  0.        ,   0.84551368,   1.        ,   1.        ,\n",
       "         0.        ,   0.97674822,   1.        ,   0.99311373,\n",
       "       556.        ])"
      ]
     },
     "execution_count": 17,
     "metadata": {},
     "output_type": "execute_result"
    }
   ],
   "source": [
    "pop[9]"
   ]
  },
  {
   "cell_type": "code",
   "execution_count": 18,
   "metadata": {},
   "outputs": [
    {
     "data": {
      "text/plain": [
       "array([  1.        ,   0.99647626,   1.        ,   1.        ,\n",
       "         0.        ,   0.94139721,   0.        ,  -0.71786868,\n",
       "       552.        ])"
      ]
     },
     "execution_count": 18,
     "metadata": {},
     "output_type": "execute_result"
    }
   ],
   "source": [
    "pop[74]"
   ]
  },
  {
   "cell_type": "code",
   "execution_count": 19,
   "metadata": {},
   "outputs": [
    {
     "data": {
      "text/plain": [
       "array([ 0.00000000e+00,  7.50429377e-01,  0.00000000e+00,  4.37576385e-01,\n",
       "        1.00000000e+00,  1.00000000e+00,  1.00000000e+00, -1.00000000e+00,\n",
       "        5.52000000e+02])"
      ]
     },
     "execution_count": 19,
     "metadata": {},
     "output_type": "execute_result"
    }
   ],
   "source": [
    "pop[128]"
   ]
  },
  {
   "cell_type": "code",
   "execution_count": 20,
   "metadata": {},
   "outputs": [
    {
     "data": {
      "text/plain": [
       "array([  1.        ,   0.99776178,   1.        ,   1.        ,\n",
       "         0.        ,   0.94588217,   0.        ,  -0.84012554,\n",
       "       552.        ])"
      ]
     },
     "execution_count": 20,
     "metadata": {},
     "output_type": "execute_result"
    }
   ],
   "source": [
    "pop[136]"
   ]
  },
  {
   "cell_type": "code",
   "execution_count": 21,
   "metadata": {},
   "outputs": [
    {
     "data": {
      "text/plain": [
       "array([  1.        ,   0.99776178,   1.        ,   1.        ,\n",
       "         0.        ,   0.94588217,   0.        ,  -0.84012554,\n",
       "       552.        ])"
      ]
     },
     "execution_count": 21,
     "metadata": {},
     "output_type": "execute_result"
    }
   ],
   "source": [
    "pop[303]"
   ]
  }
 ],
 "metadata": {
  "kernelspec": {
   "display_name": "Python 3",
   "language": "python",
   "name": "python3"
  },
  "language_info": {
   "codemirror_mode": {
    "name": "ipython",
    "version": 3
   },
   "file_extension": ".py",
   "mimetype": "text/x-python",
   "name": "python",
   "nbconvert_exporter": "python",
   "pygments_lexer": "ipython3",
   "version": "3.7.3"
  }
 },
 "nbformat": 4,
 "nbformat_minor": 2
}
